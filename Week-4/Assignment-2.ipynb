{
 "cells": [
  {
   "cell_type": "markdown",
   "id": "0a6b275e",
   "metadata": {},
   "source": [
    "Write a program to take string S as an input and replace all vowels by * and also print the modified string."
   ]
  },
  {
   "cell_type": "code",
   "execution_count": null,
   "id": "4414360a",
   "metadata": {},
   "outputs": [],
   "source": [
    "S=input()\n",
    "v=list('aeiou')\n",
    "a=\"\"\n",
    "for i in S:\n",
    "    if  i.lower() in v:\n",
    "        a=a+'*'\n",
    "    else:\n",
    "        a=a+i\n",
    "print(a,end=\"\")"
   ]
  }
 ],
 "metadata": {
  "kernelspec": {
   "display_name": "Python 3 (ipykernel)",
   "language": "python",
   "name": "python3"
  },
  "language_info": {
   "codemirror_mode": {
    "name": "ipython",
    "version": 3
   },
   "file_extension": ".py",
   "mimetype": "text/x-python",
   "name": "python",
   "nbconvert_exporter": "python",
   "pygments_lexer": "ipython3",
   "version": "3.10.4"
  }
 },
 "nbformat": 4,
 "nbformat_minor": 5
}
