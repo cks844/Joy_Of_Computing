{
 "cells": [
  {
   "cell_type": "markdown",
   "id": "100cc0dd",
   "metadata": {},
   "source": [
    "Take two numbers N and K as an input. Create a list L of length N and initialize it with zeros. \n",
    "Change the value to 1 of even indexes if k is even, otherwise change the value of odd indexes. Print list L in the end.(Consider 0 as even)\n"
   ]
  },
  {
   "cell_type": "code",
   "execution_count": null,
   "id": "ab984aa2",
   "metadata": {},
   "outputs": [],
   "source": [
    "N=int(input())\n",
    "K=int(input())\n",
    "\n",
    "L= []\n",
    "\n",
    "if K%2!=0:\n",
    "    for i in range(N):\n",
    "        if i%2==0:\n",
    "            L.append(0)\n",
    "        else:\n",
    "            L.append(1)\n",
    "else:\n",
    "    for i in range(N):\n",
    "        if i%2!=0:\n",
    "            L.append(0)\n",
    "        else:\n",
    "            L.append(1)\n",
    "print(L, end=\"\")"
   ]
  }
 ],
 "metadata": {
  "kernelspec": {
   "display_name": "Python 3 (ipykernel)",
   "language": "python",
   "name": "python3"
  },
  "language_info": {
   "codemirror_mode": {
    "name": "ipython",
    "version": 3
   },
   "file_extension": ".py",
   "mimetype": "text/x-python",
   "name": "python",
   "nbconvert_exporter": "python",
   "pygments_lexer": "ipython3",
   "version": "3.10.4"
  }
 },
 "nbformat": 4,
 "nbformat_minor": 5
}
