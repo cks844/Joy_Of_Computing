{
 "cells": [
  {
   "cell_type": "markdown",
   "id": "b57b95b5",
   "metadata": {},
   "source": [
    "Write a program to take an integer N as an input and display the pattern."
   ]
  },
  {
   "cell_type": "code",
   "execution_count": null,
   "id": "7afa976f",
   "metadata": {},
   "outputs": [],
   "source": [
    "N=int(input())\n",
    "for i in range(N):\n",
    "    for j in range(i+1):\n",
    "         print('* ',end=\"\")\n",
    "    print()\n",
    "for i in range(N-1,0,-1):\n",
    "    for j in range(i):\n",
    "        print(\"* \",end=\"\")\n",
    "    if j!=0:\n",
    "        print()"
   ]
  }
 ],
 "metadata": {
  "kernelspec": {
   "display_name": "Python 3 (ipykernel)",
   "language": "python",
   "name": "python3"
  },
  "language_info": {
   "codemirror_mode": {
    "name": "ipython",
    "version": 3
   },
   "file_extension": ".py",
   "mimetype": "text/x-python",
   "name": "python",
   "nbconvert_exporter": "python",
   "pygments_lexer": "ipython3",
   "version": "3.10.4"
  }
 },
 "nbformat": 4,
 "nbformat_minor": 5
}
