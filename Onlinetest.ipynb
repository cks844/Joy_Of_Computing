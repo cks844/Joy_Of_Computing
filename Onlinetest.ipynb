{
 "cells": [
  {
   "cell_type": "markdown",
   "id": "7953a479",
   "metadata": {},
   "source": [
    "Shyam has N Jars of Ladoos and he wants to distribute the Ladoos amongst M Villagers. The i-th jar contains Li pieces of Ladoos. He wants to make sure that every villager gets the same amount of ladoos and that the number of ladoos they receive is the greatest possible. He can open each jar and mix all the ladoos before distributing them to the villagers. How many pieces of ladoos will remain after he shares them amongst villagers, based on the rules described above?"
   ]
  },
  {
   "cell_type": "code",
   "execution_count": 9,
   "id": "eea23193",
   "metadata": {},
   "outputs": [
    {
     "name": "stdout",
     "output_type": "stream",
     "text": [
      "No of jars :3\n",
      "No of villagers:2\n",
      "No of ladoos in jar5\n",
      "No of ladoos in jar6\n",
      "No of ladoos in jar9\n",
      "[5, 6, 9]\n",
      "0\n"
     ]
    }
   ],
   "source": [
    "#Basic code\n",
    "j=int(input(\"No of jars :\"))\n",
    "m=int(input(\"No of villagers:\"))\n",
    "jar=[]\n",
    "for i in range(1,j+1):\n",
    "    ip=int(input(\"No of ladoos in jar:\"))\n",
    "    jar.append(ip)\n",
    "print(jar)\n",
    "t_l=0\n",
    "for l in jar:\n",
    "    t_l+=l\n",
    "balance=t_l%m\n",
    "print(balance)"
   ]
  },
  {
   "cell_type": "code",
   "execution_count": 12,
   "id": "3f1aa138",
   "metadata": {},
   "outputs": [
    {
     "name": "stdout",
     "output_type": "stream",
     "text": [
      "3 2\n",
      "5 6 9\n",
      "0\n"
     ]
    }
   ],
   "source": [
    "n,m = map(int, input().split())\n",
    "Ladoo = list(map(int, input().split()))\n",
    "print(sum(Ladoo)%m)\n"
   ]
  }
 ],
 "metadata": {
  "kernelspec": {
   "display_name": "Python 3 (ipykernel)",
   "language": "python",
   "name": "python3"
  },
  "language_info": {
   "codemirror_mode": {
    "name": "ipython",
    "version": 3
   },
   "file_extension": ".py",
   "mimetype": "text/x-python",
   "name": "python",
   "nbconvert_exporter": "python",
   "pygments_lexer": "ipython3",
   "version": "3.10.4"
  }
 },
 "nbformat": 4,
 "nbformat_minor": 5
}
