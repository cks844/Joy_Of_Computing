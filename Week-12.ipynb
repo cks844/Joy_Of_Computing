{
 "cells": [
  {
   "cell_type": "markdown",
   "id": "06a4364c",
   "metadata": {},
   "source": [
    "#ASSIGNMENT-1\n",
    "\n",
    "Write a program to take an integer as the input and reverse that integer.\n",
    "\n",
    "Input:\n",
    "A single integer.\n",
    "\n",
    "Output:\n",
    "Reverse number of that integer.\n",
    "\n",
    "Example:\n",
    "\n",
    "Input:\n",
    "54321\n",
    "\n",
    "Output:\n",
    "12345"
   ]
  },
  {
   "cell_type": "code",
   "execution_count": 1,
   "id": "9c96a3fd",
   "metadata": {},
   "outputs": [
    {
     "name": "stdout",
     "output_type": "stream",
     "text": [
      "54321\n",
      "12345"
     ]
    }
   ],
   "source": [
    "n=int(input())\n",
    "s=list(str(n))\n",
    "s.reverse()\n",
    "print(int(''.join(s)),end=\"\")"
   ]
  },
  {
   "cell_type": "markdown",
   "id": "25e910fc",
   "metadata": {},
   "source": [
    "#ASSIGNMENT-2\n",
    "\n",
    "Take a list of strings as an input and write a program to write sort the list of strings on the basis of last character of each string.\n",
    "If last character is same, consider the second last character and so on.\n",
    "\n",
    "Input:\n",
    "L = ['ram', 'shyam', 'lakshami']\n",
    "\n",
    "Output:\n",
    "['lakshami', 'ram', 'shyam']"
   ]
  },
  {
   "cell_type": "code",
   "execution_count": null,
   "id": "1a95f383",
   "metadata": {},
   "outputs": [],
   "source": [
    "lst=[x[::-1]for x in input().split()]\n",
    "lst.sort()\n",
    "print([y[::-1]for y in lst],end='')"
   ]
  },
  {
   "cell_type": "markdown",
   "id": "538afa90",
   "metadata": {},
   "source": [
    "#ASSIGNMENT-3\n",
    "\n",
    "Take a student's email id as an input in the format rollNumber@institute.edu.in and write a program to find the roll number and institute name of the student.\n",
    "\n",
    "Input:\n",
    "roll@institute.edu.in\n",
    "\n",
    "Output:\n",
    "roll institute\n"
   ]
  },
  {
   "cell_type": "code",
   "execution_count": 3,
   "id": "1d222064",
   "metadata": {},
   "outputs": [
    {
     "name": "stdout",
     "output_type": "stream",
     "text": [
      "roll@institute.edu.in\n",
      "roll institute\n"
     ]
    }
   ],
   "source": [
    "n=input().split('@')\n",
    "s=n[1].split('.')\n",
    "print(n[0],s[0])"
   ]
  }
 ],
 "metadata": {
  "kernelspec": {
   "display_name": "Python 3 (ipykernel)",
   "language": "python",
   "name": "python3"
  },
  "language_info": {
   "codemirror_mode": {
    "name": "ipython",
    "version": 3
   },
   "file_extension": ".py",
   "mimetype": "text/x-python",
   "name": "python",
   "nbconvert_exporter": "python",
   "pygments_lexer": "ipython3",
   "version": "3.10.6"
  }
 },
 "nbformat": 4,
 "nbformat_minor": 5
}
