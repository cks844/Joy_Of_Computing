{
 "cells": [
  {
   "cell_type": "markdown",
   "id": "16407855",
   "metadata": {},
   "source": [
    "You are given a list L. Write a function uniqueE which will return a list of unique elements is the list L in sorted order. (Unique element means it should appear in list L only once.)\n",
    "\n",
    "Input is handled by us.\n",
    "\n",
    "Input\n",
    "[1,2,3,3,4,4,2,5,6,7]\n",
    "\n",
    "Output\n",
    "[1,5,6,7]\n",
    "\n",
    "Explanation\n",
    "\n",
    "Elements 1,5,6,7 appears in the input list only once."
   ]
  },
  {
   "cell_type": "code",
   "execution_count": 14,
   "id": "e101a6ff",
   "metadata": {},
   "outputs": [
    {
     "name": "stdout",
     "output_type": "stream",
     "text": [
      "[1, 5, 6, 7]\n"
     ]
    }
   ],
   "source": [
    "def uniquE(L):\n",
    "    u=[]\n",
    "    for i in L:\n",
    "        if L.count(i)!=1 in L:\n",
    "            continue\n",
    "        else:\n",
    "            u.append(i)    \n",
    "    return(sorted(u))\n",
    "L=[1,2,3,3,4,4,2,5,6,7]\n",
    "print(uniquE(L))"
   ]
  },
  {
   "cell_type": "code",
   "execution_count": 18,
   "id": "748644f7",
   "metadata": {},
   "outputs": [
    {
     "data": {
      "text/plain": [
       "[1, 5, 6, 7]"
      ]
     },
     "execution_count": 18,
     "metadata": {},
     "output_type": "execute_result"
    }
   ],
   "source": [
    "#easier code using list comprehension\n",
    "def uniqueE(L):\n",
    "    a=[i for i in L if L.count(i)==1]\n",
    "    return(sorted(a))\n",
    "L=[1,2,3,3,4,4,2,5,6,7]\n",
    "uniquE(L)"
   ]
  },
  {
   "cell_type": "code",
   "execution_count": null,
   "id": "df55572e",
   "metadata": {},
   "outputs": [],
   "source": []
  }
 ],
 "metadata": {
  "kernelspec": {
   "display_name": "Python 3 (ipykernel)",
   "language": "python",
   "name": "python3"
  },
  "language_info": {
   "codemirror_mode": {
    "name": "ipython",
    "version": 3
   },
   "file_extension": ".py",
   "mimetype": "text/x-python",
   "name": "python",
   "nbconvert_exporter": "python",
   "pygments_lexer": "ipython3",
   "version": "3.10.4"
  }
 },
 "nbformat": 4,
 "nbformat_minor": 5
}
