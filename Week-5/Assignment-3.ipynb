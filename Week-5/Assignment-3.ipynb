{
 "cells": [
  {
   "cell_type": "markdown",
   "id": "afecfd32",
   "metadata": {},
   "source": [
    "You are given a list L. Write a program to print first prime number encountered in the list L.(Treat numbers below and equal to 1 as non prime)\n",
    "\n",
    "Input is handled by us.\n",
    "\n",
    "Input\n",
    "[1,2,3,4,5,6,7,8,9]\n",
    "\n",
    "output\n",
    "2\n",
    "\n",
    "Explanation\n",
    "Since 2 is the first prime number is list L, therefor it is printed."
   ]
  },
  {
   "cell_type": "code",
   "execution_count": null,
   "id": "eb74b261",
   "metadata": {},
   "outputs": [],
   "source": [
    "def prime(n):\n",
    "    f=1\n",
    "    i=2\n",
    "    while(i<n):\n",
    "        if n%i==0:\n",
    "            f+=1\n",
    "            break\n",
    "        i+=1\n",
    "    return(f==1 and n>1)\n",
    "for i in L:\n",
    "    if prime(i)==True:\n",
    "        print(i,end=\"\")\n",
    "        break"
   ]
  }
 ],
 "metadata": {
  "kernelspec": {
   "display_name": "Python 3 (ipykernel)",
   "language": "python",
   "name": "python3"
  },
  "language_info": {
   "codemirror_mode": {
    "name": "ipython",
    "version": 3
   },
   "file_extension": ".py",
   "mimetype": "text/x-python",
   "name": "python",
   "nbconvert_exporter": "python",
   "pygments_lexer": "ipython3",
   "version": "3.10.4"
  }
 },
 "nbformat": 4,
 "nbformat_minor": 5
}
