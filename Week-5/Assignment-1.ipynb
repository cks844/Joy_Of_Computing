{
 "cells": [
  {
   "cell_type": "markdown",
   "id": "d1e76ff1",
   "metadata": {},
   "source": [
    "You are given a string S. Write a function count_letters which accepts the string S and returns a dictionary containing letters (including special character) in string S as keys and their count in string S as values.\n",
    "\n",
    "Example:\n",
    "Input\n",
    "The Joy of computing\n",
    "\n",
    "Output\n",
    "{'T': 1, 'h': 1, 'e': 1, ' ': 3, 'j': 1, 'o': 3, 'y': 1, 'f': 1, 'c': 1, 'm': 1, 'p': 1, 'u': 1, 't': 1, 'i': 1, 'n': 1, 'g': 1}\n",
    "\n",
    "Explanation: T is appeared once in the string, similarly o is appeared 3 times in the string and so on. (You do not have to worry about the order of arrangement in your dictionary)"
   ]
  },
  {
   "cell_type": "code",
   "execution_count": 12,
   "id": "c0a1e078",
   "metadata": {},
   "outputs": [
    {
     "name": "stdout",
     "output_type": "stream",
     "text": [
      "Enter the string:\n",
      "I love python\n"
     ]
    },
    {
     "data": {
      "text/plain": [
       "{'I': 1,\n",
       " ' ': 2,\n",
       " 'l': 1,\n",
       " 'o': 2,\n",
       " 'v': 1,\n",
       " 'e': 1,\n",
       " 'p': 1,\n",
       " 'y': 1,\n",
       " 't': 1,\n",
       " 'h': 1,\n",
       " 'n': 1}"
      ]
     },
     "execution_count": 12,
     "metadata": {},
     "output_type": "execute_result"
    }
   ],
   "source": [
    "def count_letters(S):\n",
    "    dic={}\n",
    "    for i in S:\n",
    "        if i not in dic:\n",
    "            dic[i]=1\n",
    "        else:\n",
    "            dic[i]+=1\n",
    "    return(dic)\n",
    "    print(dic) #\n",
    "S=input(\"Enter the string:\\n\") #\n",
    "count_letters(S) # commented lines are not required for the submission"
   ]
  },
  {
   "cell_type": "code",
   "execution_count": null,
   "id": "12252966",
   "metadata": {},
   "outputs": [],
   "source": []
  }
 ],
 "metadata": {
  "kernelspec": {
   "display_name": "Python 3 (ipykernel)",
   "language": "python",
   "name": "python3"
  },
  "language_info": {
   "codemirror_mode": {
    "name": "ipython",
    "version": 3
   },
   "file_extension": ".py",
   "mimetype": "text/x-python",
   "name": "python",
   "nbconvert_exporter": "python",
   "pygments_lexer": "ipython3",
   "version": "3.10.4"
  }
 },
 "nbformat": 4,
 "nbformat_minor": 5
}
