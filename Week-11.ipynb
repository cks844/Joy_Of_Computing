{
 "cells": [
  {
   "cell_type": "markdown",
   "id": "ed37ceef",
   "metadata": {},
   "source": [
    "ASSIGNMENT-1\n",
    "Take 3 sides of a triangle as an input and find whether that triangle is a right angled triangle or not. Print 'YES' if a triangle is right angled triangle or 'NO' if it's not.\n",
    "\n",
    "Input:\n",
    "3\n",
    "4\n",
    "5\n",
    "\n",
    "Output\n",
    "YES\n"
   ]
  },
  {
   "cell_type": "code",
   "execution_count": 34,
   "id": "2aff9efb",
   "metadata": {},
   "outputs": [
    {
     "name": "stdout",
     "output_type": "stream",
     "text": [
      "3 4 5\n"
     ]
    },
    {
     "data": {
      "text/plain": [
       "'YES'"
      ]
     },
     "execution_count": 34,
     "metadata": {},
     "output_type": "execute_result"
    }
   ],
   "source": [
    "def right_angled(a, b, c):\n",
    "    if(a*a+b*b==c*c) or (c*c+b*b==a*a) or (a*a+c*c==b*b) :\n",
    "        return \"YES\"\n",
    "    else:\n",
    "        return \"NO\"\n",
    "x,y,z=map(int,input().split())\n",
    "right_angled(x,y,z)"
   ]
  },
  {
   "cell_type": "markdown",
   "id": "8954d839",
   "metadata": {},
   "source": [
    "ASSIGNMENT-2\n",
    "Write a program that accepts a hash-separated sequence of words as input and prints the words in a hash-separated sequence after sorting them alphabetically in reverse order.\n",
    "\n",
    "Input:\n",
    "hey#input#bye\n",
    "\n",
    "Output:\n",
    "input#hey#bye"
   ]
  },
  {
   "cell_type": "code",
   "execution_count": 32,
   "id": "a98f6853",
   "metadata": {},
   "outputs": [
    {
     "name": "stdout",
     "output_type": "stream",
     "text": [
      "hey#input#bye\n",
      "input#hey#bye\n"
     ]
    }
   ],
   "source": [
    "hash_inp=[x for x in input().split('#')]\n",
    "hash_inp.sort(reverse=True)\n",
    "print('#'.join(hash_inp))"
   ]
  },
  {
   "cell_type": "markdown",
   "id": "ba8a2eae",
   "metadata": {},
   "source": [
    "ASSIGNMENT-3\n",
    "Write a program which takes two integer a and b and prints all composite numbers between a and b. (both numbers are inclusive)\n",
    "\n",
    "Input:\n",
    "10\n",
    "20\n",
    "\n",
    "Output:\n",
    "10\n",
    "12\n",
    "14\n",
    "15\n",
    "16\n",
    "18\n",
    "20"
   ]
  },
  {
   "cell_type": "code",
   "execution_count": 54,
   "id": "e0b8a557",
   "metadata": {},
   "outputs": [
    {
     "name": "stdout",
     "output_type": "stream",
     "text": [
      "20 30\n",
      "20\n",
      "21\n",
      "22\n",
      "24\n",
      "25\n",
      "26\n",
      "27\n",
      "28\n",
      "30\n"
     ]
    }
   ],
   "source": [
    "def isPrime(num):\n",
    "    if num == 2:\n",
    "        return True\n",
    "    if num<2:\n",
    "        return False\n",
    "    for i in range(2, num):\n",
    "        if num%i == 0:\n",
    "            return False\n",
    "    return True\n",
    "\n",
    "x,y=map(int,input().split())\n",
    "for i in range(x, y+1):\n",
    "    if not isPrime(i):\n",
    "        print(i)"
   ]
  },
  {
   "cell_type": "code",
   "execution_count": null,
   "id": "f83cbe55",
   "metadata": {},
   "outputs": [],
   "source": []
  }
 ],
 "metadata": {
  "kernelspec": {
   "display_name": "Python 3 (ipykernel)",
   "language": "python",
   "name": "python3"
  },
  "language_info": {
   "codemirror_mode": {
    "name": "ipython",
    "version": 3
   },
   "file_extension": ".py",
   "mimetype": "text/x-python",
   "name": "python",
   "nbconvert_exporter": "python",
   "pygments_lexer": "ipython3",
   "version": "3.10.6"
  }
 },
 "nbformat": 4,
 "nbformat_minor": 5
}
