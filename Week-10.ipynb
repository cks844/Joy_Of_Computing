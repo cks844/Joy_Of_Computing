{
 "cells": [
  {
   "cell_type": "markdown",
   "id": "3e1950be",
   "metadata": {},
   "source": [
    "#ASSIGNMENT-1\n",
    "\n",
    "Given a list L, write a program to make a new list to fix the indexes of numbers in the list L to its same value in the new list. Put 0 at remaining indexes. Also print the elements of the new list in the single line. (See explanation for more clarity.)\n",
    "\n",
    "Input:\n",
    "[1,5,6]\n",
    "\n",
    "Output:\n",
    "0 1 0 0 0 5 6\n",
    "\n",
    "Explanation: \n",
    "\n",
    "List L contains 1,5,9 so at 1,5,9, index of new list the respective values are put and rest are initialized as zero"
   ]
  },
  {
   "cell_type": "code",
   "execution_count": 11,
   "id": "66353d8d",
   "metadata": {},
   "outputs": [
    {
     "name": "stdout",
     "output_type": "stream",
     "text": [
      "0 1 0 0 0 5 6"
     ]
    }
   ],
   "source": [
    "SL=sorted(list(set(L)))\n",
    "IL=[0]*(max(SL)+1)\n",
    "for i in range(len(SL)):\n",
    "    IL[SL[i]]=SL[i]\n",
    "print(*IL,end=\"\") "
   ]
  },
  {
   "cell_type": "markdown",
   "id": "932a9c3b",
   "metadata": {},
   "source": [
    "#ASSIGNMENT-2\n",
    "Ram shifted to a new place recently. There are multiple schools near his locality. Given the co-ordinates of Ram P(X,Y) and schools near his locality are given in a nested list, find the closest school. Print multiple coordinates in respective order if there exist multiple schools closest to him. Write a function closestSchool that accepts (X ,Y , L) where X and Y are co-ordinates of Ram's house and L contains co-ordinates of different school.\n",
    "\n",
    "Distance Formula(To calculate distance between two co-ordinates): √((X2 - X1)² + (Y2 - Y1)²)\n",
    "\n",
    "where (x1,y1) is the co-ordinate of point 1 and (x2, y2) is the co-ordinate of point 2.\n",
    "\n",
    "Input:\n",
    "X, Y (Ram's house co-ordinates)\n",
    "N (No of schools)\n",
    "X1 Y1\n",
    "X2 Y2\n",
    ".\n",
    ".\n",
    ".\n",
    "\n",
    "X6 Y6\n",
    "\n",
    "Output:\n",
    "Closest point/points to X, Y\n"
   ]
  },
  {
   "cell_type": "code",
   "execution_count": 16,
   "id": "673a0671",
   "metadata": {},
   "outputs": [],
   "source": [
    "def closestSchool(x, y, L):\n",
    "    min=99999\n",
    "    distance=[]\n",
    "    for i in L: \n",
    "        dis=((x-i[0])**2+(y-i[1])**2)**0.5\n",
    "        distance.append(dis)\n",
    "    if dis<min:\n",
    "        min=dis \n",
    "    for i in range(len(distance)):\n",
    "        if distance[i]==min:\n",
    "            print(L[i])"
   ]
  },
  {
   "cell_type": "markdown",
   "id": "a89abde1",
   "metadata": {},
   "source": [
    "#ASSIGNMENT-3\n",
    "\n",
    "Given a string s write a program to convert uppercase letters into lowercase and lowercase letters into uppercase. Also print the resultant string.\n",
    "\n",
    "Note: You need to take the input and do not print anything while taking input.\n",
    "\n",
    "Input:\n",
    "The Joy Of Computing\n",
    "\n",
    "Output\n",
    "tHE jOY oF cOMPUTING"
   ]
  },
  {
   "cell_type": "code",
   "execution_count": 17,
   "id": "499e4949",
   "metadata": {},
   "outputs": [
    {
     "name": "stdout",
     "output_type": "stream",
     "text": [
      "The Joy Of Computing\n",
      "tHE jOY oF cOMPUTING"
     ]
    }
   ],
   "source": [
    "print(input().swapcase(),end=\"\")"
   ]
  },
  {
   "cell_type": "code",
   "execution_count": 25,
   "id": "06feff86",
   "metadata": {},
   "outputs": [
    {
     "name": "stdout",
     "output_type": "stream",
     "text": [
      "fguqaBUFIAWFG DBUIqdgBUAIFGAbubuD [];',./\n",
      "FGUQAbufiawfg dbuiQDGbuaifgaBUBUd [];',./\n"
     ]
    }
   ],
   "source": [
    "#Basic code\n",
    "st=input()\n",
    "new=\"\"\n",
    "for i in st:\n",
    "    if (i.islower()):\n",
    "        new=new+i.upper()\n",
    "    elif(i.isupper()):\n",
    "        new=new+i.lower()\n",
    "    elif(i.isdigit()):\n",
    "        new=new+i\n",
    "    elif(i==\" \"):\n",
    "        new=new+\" \"\n",
    "    else:\n",
    "        new=new+i\n",
    "print(new)"
   ]
  }
 ],
 "metadata": {
  "kernelspec": {
   "display_name": "Python 3 (ipykernel)",
   "language": "python",
   "name": "python3"
  },
  "language_info": {
   "codemirror_mode": {
    "name": "ipython",
    "version": 3
   },
   "file_extension": ".py",
   "mimetype": "text/x-python",
   "name": "python",
   "nbconvert_exporter": "python",
   "pygments_lexer": "ipython3",
   "version": "3.10.6"
  }
 },
 "nbformat": 4,
 "nbformat_minor": 5
}
